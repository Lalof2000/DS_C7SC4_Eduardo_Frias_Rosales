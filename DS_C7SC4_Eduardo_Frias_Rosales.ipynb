{
  "nbformat": 4,
  "nbformat_minor": 0,
  "metadata": {
    "colab": {
      "provenance": []
    },
    "kernelspec": {
      "name": "python3",
      "display_name": "Python 3"
    },
    "language_info": {
      "name": "python"
    }
  },
  "cells": [
    {
      "cell_type": "markdown",
      "source": [
        "Reto: Modelo basado en deep learning para la discriminación entre gatos y perros\n",
        "\n",
        "Act:DS_C7SC4\n",
        "\n",
        "Eduardo Frias Rosales\n",
        "\n",
        "Introducción:\n",
        "\n",
        "Han pasado más de dos años desde que se descubrió la vacuna contra los zombis. Ahora un nuevo peligro amenaza el mundo. Algunas razas de perros son inmunes a la vacuna y pueden crear una nueva cepa del virus. La empresa estadounidense Small Pet, una vez que se dio cuenta del problema, dio aviso a todos los países para que estén alerta.\n",
        "\n",
        "En México, la empresa Ciencia para el futuro se ha propuesto apoyar con la creación de una aplicación para identificar a dichos perros. Por ello, te ha contratado para que crees una App antes de que los perros infecten a su primera víctima con la nueva cepa del virus mortal.\n",
        "\n",
        "¿Podrás lograrlo antes de que el mundo caiga nuevamente en manos de los zombis?\n",
        "\n",
        "Objetivos:\n",
        "\n",
        "Diseñar modelos de redes neuronales profundas (deep learning), enfocándose en la clasificación de imágenes de acuerdo a categorías preestablecidas para resolver problemas con relevancia social, permitiendo generar valor en los diversos sectores.\n",
        "Crear modelos de datos Deep Neural Networks (DNN) utilizando PyTorch basado en Python; seleccionando el modelo adecuado y analizando la exactitud del modelo, para cumplir lo mejor posible con los requerimientos de la tarea requerida."
      ],
      "metadata": {
        "id": "m014koxOSaHv"
      }
    },
    {
      "cell_type": "code",
      "execution_count": 1,
      "metadata": {
        "colab": {
          "base_uri": "https://localhost:8080/"
        },
        "id": "NQewhwK0SUGL",
        "outputId": "042ea401-2bdb-40b5-ce57-2ee9595834d2"
      },
      "outputs": [
        {
          "output_type": "stream",
          "name": "stdout",
          "text": [
            "Número de imágenes encontradas: 4895\n"
          ]
        }
      ],
      "source": [
        "import torch\n",
        "import torch.nn as nn\n",
        "import torch.optim as optim\n",
        "from torch.utils.data import DataLoader, Dataset\n",
        "from torchvision import transforms, datasets\n",
        "import torchvision.models as models\n",
        "from PIL import Image\n",
        "import os\n",
        "\n",
        "# Definir la ruta a los datos\n",
        "data_dir = \"/content/drive/MyDrive/Colab Notebooks/data/Deep learning utilizando PyTorch/catsvsdogs\"\n",
        "\n",
        "# Lista las imágenes en el directorio\n",
        "image_files = []\n",
        "for root, dirs, files in os.walk(data_dir):\n",
        "    for file in files:\n",
        "        if file.endswith(('.jpg', '.jpeg', '.png')):\n",
        "            image_files.append(os.path.join(root, file))\n",
        "\n",
        "print(f\"Número de imágenes encontradas: {len(image_files)}\")"
      ]
    },
    {
      "cell_type": "code",
      "source": [
        "# Implementar un clasificador que permita discriminar entre perros y gatos. En la libreta implementa tu modelo y realiza las pruebas que consideres pertinente.\n",
        "\n",
        "# Definir las transformaciones para el conjunto de datos\n",
        "transform = transforms.Compose([\n",
        "    transforms.Resize((224, 224)),\n",
        "    transforms.ToTensor(),\n",
        "    transforms.Normalize(mean=[0.485, 0.456, 0.406], std=[0.229, 0.224, 0.225])\n",
        "])\n",
        "\n",
        "# Crear el conjunto de datos\n",
        "dataset = datasets.ImageFolder(data_dir, transform=transform)\n",
        "\n",
        "# Dividir el conjunto de datos en entrenamiento y validación\n",
        "train_size = int(0.8 * len(dataset))\n",
        "val_size = len(dataset) - train_size\n",
        "train_dataset, val_dataset = torch.utils.data.random_split(dataset, [train_size, val_size])\n",
        "\n",
        "# Crear los cargadores de datos\n",
        "train_loader = DataLoader(train_dataset, batch_size=32, shuffle=True)\n",
        "val_loader = DataLoader(val_dataset, batch_size=32, shuffle=False)\n",
        "\n",
        "# Definir el modelo\n",
        "model = models.resnet18(pretrained=True)\n",
        "num_ftrs = model.fc.in_features\n",
        "model.fc = nn.Linear(num_ftrs, 2)  # 2 clases: gatos y perros\n",
        "\n",
        "# Definir la función de pérdida y el optimizador\n",
        "criterion = nn.CrossEntropyLoss()\n",
        "optimizer = optim.Adam(model.parameters(), lr=0.001)\n",
        "\n",
        "# Entrenar el modelo\n",
        "device = torch.device(\"cuda\" if torch.cuda.is_available() else \"cpu\")\n",
        "model.to(device)\n",
        "\n",
        "num_epochs = 10\n",
        "for epoch in range(num_epochs):\n",
        "    model.train()\n",
        "    running_loss = 0.0\n",
        "    for images, labels in train_loader:\n",
        "        images = images.to(device)\n",
        "        labels = labels.to(device)\n",
        "\n",
        "        optimizer.zero_grad()\n",
        "        outputs = model(images)\n",
        "        loss = criterion(outputs, labels)\n",
        "        loss.backward()\n",
        "        optimizer.step()\n",
        "\n",
        "        running_loss += loss.item()\n",
        "\n",
        "    print(f\"Epoch {epoch+1}/{num_epochs}, Loss: {running_loss / len(train_loader)}\")\n",
        "\n",
        "    # Validar el modelo\n",
        "    model.eval()\n",
        "    correct = 0\n",
        "    total = 0\n",
        "    with torch.no_grad():\n",
        "        for images, labels in val_loader:\n",
        "            images = images.to(device)\n",
        "            labels = labels.to(device)\n",
        "            outputs = model(images)\n",
        "            _, predicted = torch.max(outputs.data, 1)\n",
        "            total += labels.size(0)\n",
        "            correct += (predicted == labels).sum().item()\n",
        "\n",
        "    print(f\"Accuracy on validation set: {100 * correct / total}%\")\n"
      ],
      "metadata": {
        "colab": {
          "base_uri": "https://localhost:8080/"
        },
        "id": "WtT2qDBYXZV8",
        "outputId": "35303efa-9d89-4e1c-8558-a7fcdcccd8a2"
      },
      "execution_count": 2,
      "outputs": [
        {
          "output_type": "stream",
          "name": "stderr",
          "text": [
            "/usr/local/lib/python3.10/dist-packages/torchvision/models/_utils.py:208: UserWarning: The parameter 'pretrained' is deprecated since 0.13 and may be removed in the future, please use 'weights' instead.\n",
            "  warnings.warn(\n",
            "/usr/local/lib/python3.10/dist-packages/torchvision/models/_utils.py:223: UserWarning: Arguments other than a weight enum or `None` for 'weights' are deprecated since 0.13 and may be removed in the future. The current behavior is equivalent to passing `weights=ResNet18_Weights.IMAGENET1K_V1`. You can also use `weights=ResNet18_Weights.DEFAULT` to get the most up-to-date weights.\n",
            "  warnings.warn(msg)\n",
            "Downloading: \"https://download.pytorch.org/models/resnet18-f37072fd.pth\" to /root/.cache/torch/hub/checkpoints/resnet18-f37072fd.pth\n",
            "100%|██████████| 44.7M/44.7M [00:00<00:00, 60.4MB/s]\n"
          ]
        },
        {
          "output_type": "stream",
          "name": "stdout",
          "text": [
            "Epoch 1/10, Loss: 0.21286801762152008\n",
            "Accuracy on validation set: 94.68845760980592%\n",
            "Epoch 2/10, Loss: 0.1302354169169032\n",
            "Accuracy on validation set: 93.97344228804903%\n",
            "Epoch 3/10, Loss: 0.0934662316164865\n",
            "Accuracy on validation set: 93.97344228804903%\n",
            "Epoch 4/10, Loss: 0.06721049732702776\n",
            "Accuracy on validation set: 92.64555669050051%\n",
            "Epoch 5/10, Loss: 0.053819253845746075\n",
            "Accuracy on validation set: 90.39836567926456%\n",
            "Epoch 6/10, Loss: 0.0727322124402849\n",
            "Accuracy on validation set: 93.25842696629213%\n",
            "Epoch 7/10, Loss: 0.0614357177221133\n",
            "Accuracy on validation set: 92.03268641470889%\n",
            "Epoch 8/10, Loss: 0.058988009403437014\n",
            "Accuracy on validation set: 95.09703779366701%\n",
            "Epoch 9/10, Loss: 0.034744454172489087\n",
            "Accuracy on validation set: 89.17262512768131%\n",
            "Epoch 10/10, Loss: 0.036575541674676235\n",
            "Accuracy on validation set: 93.97344228804903%\n"
          ]
        }
      ]
    },
    {
      "cell_type": "code",
      "source": [
        "# Guardar el modelo entrenado en Google Drive\n",
        "model_path = \"/content/drive/MyDrive/Colab Notebooks/data/Deep learning utilizando PyTorch/cats_vs_dogs_model.pth\"\n",
        "torch.save(model.state_dict(), model_path)\n"
      ],
      "metadata": {
        "id": "XNokHklIvyCm"
      },
      "execution_count": 3,
      "outputs": []
    }
  ]
}